{
 "cells": [
  {
   "cell_type": "markdown",
   "metadata": {},
   "source": [
    "# Logistic Regression applied to \n",
    "------------------------------------------------------------------------------------"
   ]
  },
  {
   "cell_type": "markdown",
   "metadata": {},
   "source": [
    "## Imports and Setup\n",
    "------------------------------------------"
   ]
  },
  {
   "cell_type": "code",
   "execution_count": 1,
   "metadata": {},
   "outputs": [],
   "source": [
    "import numpy as np\n",
    "import pandas as pd\n",
    "import logisticregression\n",
    "from sklearn.model_selection import train_test_split\n",
    "from sklearn.metrics import classification_report"
   ]
  },
  {
   "cell_type": "code",
   "execution_count": 234,
   "metadata": {},
   "outputs": [],
   "source": [
    "#load the dataset\n",
    "phishing_df=pd.read_csv(\"phishdata.csv\")"
   ]
  },
  {
   "cell_type": "code",
   "execution_count": 235,
   "metadata": {},
   "outputs": [
    {
     "output_type": "execute_result",
     "data": {
      "text/plain": "   index  having_IPhaving_IP_Address  URLURL_Length  Shortining_Service  \\\n0      1                          -1              1                   1   \n1      2                           1              1                   1   \n2      3                           1              0                   1   \n3      4                           1              0                   1   \n4      5                           1              0                  -1   \n\n   having_At_Symbol  double_slash_redirecting  Prefix_Suffix  \\\n0                 1                        -1             -1   \n1                 1                         1             -1   \n2                 1                         1             -1   \n3                 1                         1             -1   \n4                 1                         1             -1   \n\n   having_Sub_Domain  SSLfinal_State  Domain_registeration_length  ...  \\\n0                 -1              -1                           -1  ...   \n1                  0               1                           -1  ...   \n2                 -1              -1                           -1  ...   \n3                 -1              -1                            1  ...   \n4                  1               1                           -1  ...   \n\n   popUpWidnow  Iframe  age_of_domain  DNSRecord  web_traffic  Page_Rank  \\\n0            1       1             -1         -1           -1         -1   \n1            1       1             -1         -1            0         -1   \n2            1       1              1         -1            1         -1   \n3            1       1             -1         -1            1         -1   \n4           -1       1             -1         -1            0         -1   \n\n   Google_Index  Links_pointing_to_page  Statistical_report  Result  \n0             1                       1                  -1      -1  \n1             1                       1                   1      -1  \n2             1                       0                  -1      -1  \n3             1                      -1                   1      -1  \n4             1                       1                   1       1  \n\n[5 rows x 32 columns]",
      "text/html": "<div>\n<style scoped>\n    .dataframe tbody tr th:only-of-type {\n        vertical-align: middle;\n    }\n\n    .dataframe tbody tr th {\n        vertical-align: top;\n    }\n\n    .dataframe thead th {\n        text-align: right;\n    }\n</style>\n<table border=\"1\" class=\"dataframe\">\n  <thead>\n    <tr style=\"text-align: right;\">\n      <th></th>\n      <th>index</th>\n      <th>having_IPhaving_IP_Address</th>\n      <th>URLURL_Length</th>\n      <th>Shortining_Service</th>\n      <th>having_At_Symbol</th>\n      <th>double_slash_redirecting</th>\n      <th>Prefix_Suffix</th>\n      <th>having_Sub_Domain</th>\n      <th>SSLfinal_State</th>\n      <th>Domain_registeration_length</th>\n      <th>...</th>\n      <th>popUpWidnow</th>\n      <th>Iframe</th>\n      <th>age_of_domain</th>\n      <th>DNSRecord</th>\n      <th>web_traffic</th>\n      <th>Page_Rank</th>\n      <th>Google_Index</th>\n      <th>Links_pointing_to_page</th>\n      <th>Statistical_report</th>\n      <th>Result</th>\n    </tr>\n  </thead>\n  <tbody>\n    <tr>\n      <th>0</th>\n      <td>1</td>\n      <td>-1</td>\n      <td>1</td>\n      <td>1</td>\n      <td>1</td>\n      <td>-1</td>\n      <td>-1</td>\n      <td>-1</td>\n      <td>-1</td>\n      <td>-1</td>\n      <td>...</td>\n      <td>1</td>\n      <td>1</td>\n      <td>-1</td>\n      <td>-1</td>\n      <td>-1</td>\n      <td>-1</td>\n      <td>1</td>\n      <td>1</td>\n      <td>-1</td>\n      <td>-1</td>\n    </tr>\n    <tr>\n      <th>1</th>\n      <td>2</td>\n      <td>1</td>\n      <td>1</td>\n      <td>1</td>\n      <td>1</td>\n      <td>1</td>\n      <td>-1</td>\n      <td>0</td>\n      <td>1</td>\n      <td>-1</td>\n      <td>...</td>\n      <td>1</td>\n      <td>1</td>\n      <td>-1</td>\n      <td>-1</td>\n      <td>0</td>\n      <td>-1</td>\n      <td>1</td>\n      <td>1</td>\n      <td>1</td>\n      <td>-1</td>\n    </tr>\n    <tr>\n      <th>2</th>\n      <td>3</td>\n      <td>1</td>\n      <td>0</td>\n      <td>1</td>\n      <td>1</td>\n      <td>1</td>\n      <td>-1</td>\n      <td>-1</td>\n      <td>-1</td>\n      <td>-1</td>\n      <td>...</td>\n      <td>1</td>\n      <td>1</td>\n      <td>1</td>\n      <td>-1</td>\n      <td>1</td>\n      <td>-1</td>\n      <td>1</td>\n      <td>0</td>\n      <td>-1</td>\n      <td>-1</td>\n    </tr>\n    <tr>\n      <th>3</th>\n      <td>4</td>\n      <td>1</td>\n      <td>0</td>\n      <td>1</td>\n      <td>1</td>\n      <td>1</td>\n      <td>-1</td>\n      <td>-1</td>\n      <td>-1</td>\n      <td>1</td>\n      <td>...</td>\n      <td>1</td>\n      <td>1</td>\n      <td>-1</td>\n      <td>-1</td>\n      <td>1</td>\n      <td>-1</td>\n      <td>1</td>\n      <td>-1</td>\n      <td>1</td>\n      <td>-1</td>\n    </tr>\n    <tr>\n      <th>4</th>\n      <td>5</td>\n      <td>1</td>\n      <td>0</td>\n      <td>-1</td>\n      <td>1</td>\n      <td>1</td>\n      <td>-1</td>\n      <td>1</td>\n      <td>1</td>\n      <td>-1</td>\n      <td>...</td>\n      <td>-1</td>\n      <td>1</td>\n      <td>-1</td>\n      <td>-1</td>\n      <td>0</td>\n      <td>-1</td>\n      <td>1</td>\n      <td>1</td>\n      <td>1</td>\n      <td>1</td>\n    </tr>\n  </tbody>\n</table>\n<p>5 rows × 32 columns</p>\n</div>"
     },
     "metadata": {},
     "execution_count": 235
    }
   ],
   "source": [
    "phishing_df.head()"
   ]
  },
  {
   "cell_type": "code",
   "execution_count": 236,
   "metadata": {},
   "outputs": [
    {
     "output_type": "execute_result",
     "data": {
      "text/plain": "Index(['index', 'having_IPhaving_IP_Address', 'URLURL_Length',\n       'Shortining_Service', 'having_At_Symbol', 'double_slash_redirecting',\n       'Prefix_Suffix', 'having_Sub_Domain', 'SSLfinal_State',\n       'Domain_registeration_length', 'Favicon', 'port', 'HTTPS_token',\n       'Request_URL', 'URL_of_Anchor', 'Links_in_tags', 'SFH',\n       'Submitting_to_email', 'Abnormal_URL', 'Redirect', 'on_mouseover',\n       'RightClick', 'popUpWidnow', 'Iframe', 'age_of_domain', 'DNSRecord',\n       'web_traffic', 'Page_Rank', 'Google_Index', 'Links_pointing_to_page',\n       'Statistical_report', 'Result'],\n      dtype='object')"
     },
     "metadata": {},
     "execution_count": 236
    }
   ],
   "source": [
    "phishing_df.columns"
   ]
  },
  {
   "cell_type": "code",
   "execution_count": 237,
   "metadata": {},
   "outputs": [],
   "source": [
    "#Split train and test, stratified by labels through sklearn function\n",
    "train_df, test_df = train_test_split(phishing_df,test_size=0.2, stratify=phishing_df['Result'])"
   ]
  },
  {
   "cell_type": "code",
   "execution_count": 238,
   "metadata": {},
   "outputs": [],
   "source": [
    "#Input features\n",
    "inputs=['having_IPhaving_IP_Address', 'URLURL_Length',\n",
    "       'Shortining_Service', 'having_At_Symbol', 'double_slash_redirecting',\n",
    "       'Prefix_Suffix', 'having_Sub_Domain', 'SSLfinal_State',\n",
    "       'Domain_registeration_length', 'Favicon', 'port', 'HTTPS_token',\n",
    "       'Request_URL', 'URL_of_Anchor', 'Links_in_tags', 'SFH',\n",
    "       'Submitting_to_email', 'Abnormal_URL', 'Redirect', 'on_mouseover',\n",
    "       'RightClick', 'popUpWidnow', 'Iframe', 'age_of_domain', 'DNSRecord',\n",
    "       'web_traffic', 'Page_Rank', 'Google_Index', 'Links_pointing_to_page',\n",
    "       'Statistical_report']"
   ]
  },
  {
   "cell_type": "code",
   "execution_count": 239,
   "metadata": {},
   "outputs": [],
   "source": [
    "#Input arrays\n",
    "X_train=train_df[inputs]\n",
    "X_test=test_df[inputs]"
   ]
  },
  {
   "cell_type": "code",
   "execution_count": 240,
   "metadata": {},
   "outputs": [],
   "source": [
    "#response vector\n",
    "y_train=train_df['Result']\n",
    "y_test=test_df['Result']"
   ]
  },
  {
   "cell_type": "markdown",
   "metadata": {},
   "source": [
    "Necessary adjustment as sigmoid is between 0 and 1"
   ]
  },
  {
   "cell_type": "code",
   "execution_count": 241,
   "metadata": {},
   "outputs": [],
   "source": [
    "y_train.replace(-1,0, inplace=True)\n",
    "y_test.replace(-1,0, inplace=True)"
   ]
  },
  {
   "cell_type": "markdown",
   "metadata": {},
   "source": [
    "## Testing\n",
    "------------------------------------------------------------------"
   ]
  },
  {
   "cell_type": "code",
   "execution_count": 250,
   "metadata": {},
   "outputs": [],
   "source": [
    "theta, num_steps = logisticregression.fit(X_train, y_train, learn_rate=0.0001, convergance=0.0000001)"
   ]
  },
  {
   "cell_type": "code",
   "execution_count": 251,
   "metadata": {},
   "outputs": [
    {
     "output_type": "stream",
     "name": "stdout",
     "text": "Weights: [[ 2.41238418  0.6445657  -0.22894249 -0.64197768  0.35838666 -0.01157414\n   2.71539529  0.60820024  1.61429545  0.02442444 -0.38627543  0.67480543\n  -0.44494064  0.23531329  3.16302009  0.82044985  0.88840587 -0.43730118\n  -0.13254462 -1.22496855  0.21212971  0.11858907 -0.0242293  -0.27867822\n   0.08241097  0.47693078  0.73641629  0.20732886  0.67218015  0.80243055\n   0.34607257]] Iterations: 3210\n"
    }
   ],
   "source": [
    "print('Weights:',theta, 'Iterations:', num_steps)"
   ]
  },
  {
   "cell_type": "code",
   "execution_count": 252,
   "metadata": {},
   "outputs": [],
   "source": [
    "y_pred=logisticregression.predict(theta, X_test)"
   ]
  },
  {
   "cell_type": "code",
   "execution_count": 253,
   "metadata": {},
   "outputs": [
    {
     "output_type": "stream",
     "name": "stdout",
     "text": "Correct #: 2064 Accuracy: 0.9335142469470827\n"
    }
   ],
   "source": [
    "print('Correct #:',np.sum(y_test==y_pred) ,'Accuracy:', np.sum(y_test==y_pred)/y_test.shape[0])"
   ]
  },
  {
   "cell_type": "code",
   "execution_count": 259,
   "metadata": {},
   "outputs": [
    {
     "output_type": "stream",
     "name": "stdout",
     "text": "\n               precision    recall  f1-score   support\n\n           0       0.93      0.92      0.92       980\n           1       0.93      0.95      0.94      1231\n\n    accuracy                           0.93      2211\n   macro avg       0.93      0.93      0.93      2211\nweighted avg       0.93      0.93      0.93      2211\n\n"
    }
   ],
   "source": [
    "print('\\n',classification_report(y_true=y_test, y_pred=y_pred))"
   ]
  }
 ],
 "metadata": {
  "language_info": {
   "codemirror_mode": {
    "name": "ipython",
    "version": 3
   },
   "file_extension": ".py",
   "mimetype": "text/x-python",
   "name": "python",
   "nbconvert_exporter": "python",
   "pygments_lexer": "ipython3",
   "version": "3.8.1-final"
  },
  "orig_nbformat": 2,
  "kernelspec": {
   "name": "python38132bit85bd24598f7e4575af25ce7fa37bd907",
   "display_name": "Python 3.8.1 32-bit"
  }
 },
 "nbformat": 4,
 "nbformat_minor": 2
}